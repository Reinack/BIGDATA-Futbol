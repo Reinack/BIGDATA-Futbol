{
 "cells": [
  {
   "cell_type": "markdown",
   "id": "9b1d2c9e-6596-41d4-baea-5ed4f23d713c",
   "metadata": {
    "tags": []
   },
   "source": [
    "<h1>Analisis</h1>\n",
    "<b>Bibliotecas</b>"
   ]
  },
  {
   "cell_type": "code",
   "execution_count": 2,
   "id": "989a19bb-dc7d-4083-a6d3-16dcfa1632a9",
   "metadata": {},
   "outputs": [],
   "source": [
    "#Importar pandas\n",
    "import pandas as pd"
   ]
  },
  {
   "cell_type": "markdown",
   "id": "1954df16-f960-45de-b0a6-5ffbf6d35a52",
   "metadata": {
    "tags": []
   },
   "source": [
    "<b>Datos Crudos</b>"
   ]
  },
  {
   "cell_type": "code",
   "execution_count": 5,
   "id": "5ab9c90a-5934-482b-8ee5-f3313210ec39",
   "metadata": {
    "tags": []
   },
   "outputs": [],
   "source": [
    "appearances = pd.read_csv('Raw/appearances.csv')\n",
    "games = pd.read_csv('Raw/games.csv')\n",
    "leagues = pd.read_csv('Raw/leagues.csv')\n",
    "shots = pd.read_csv('Raw/shots.csv')\n",
    "teams = pd.read_csv('Raw/teams.csv')\n",
    "teamstats = pd.read_csv('Raw/teamstats.csv')\n",
    "players = pd.read_csv('Raw/players.csv', encoding = \"ISO-8859-1\")"
   ]
  },
  {
   "cell_type": "markdown",
   "id": "59beb573-451b-4044-b197-3b41e65a169d",
   "metadata": {
    "tags": []
   },
   "source": [
    "<b>Descripcion</b>"
   ]
  },
  {
   "cell_type": "code",
   "execution_count": 8,
   "id": "308c3f89-dd61-4d2b-a3c4-85c518135ba2",
   "metadata": {
    "tags": []
   },
   "outputs": [
    {
     "name": "stdout",
     "output_type": "stream",
     "text": [
      "appearances\n",
      "   gameID  playerID  goals  ownGoals  shots  xGoals  xGoalsChain  \\\n",
      "0      81       560      0         0      0     0.0     0.000000   \n",
      "1      81       557      0         0      0     0.0     0.106513   \n",
      "2      81       548      0         0      0     0.0     0.127738   \n",
      "3      81       628      0         0      0     0.0     0.106513   \n",
      "4      81      1006      0         0      0     0.0     0.021225   \n",
      "\n",
      "   xGoalsBuildup  assists  keyPasses  xAssists position  positionOrder  \\\n",
      "0       0.000000        0          0  0.000000       GK              1   \n",
      "1       0.106513        0          1  0.106513       DR              2   \n",
      "2       0.127738        0          0  0.000000       DC              3   \n",
      "3       0.106513        0          0  0.000000       DC              3   \n",
      "4       0.021225        0          0  0.000000       DL              4   \n",
      "\n",
      "   yellowCard  redCard  time  substituteIn  substituteOut  leagueID  \n",
      "0           0        0    90             0              0         1  \n",
      "1           0        0    82        222605              0         1  \n",
      "2           0        0    90             0              0         1  \n",
      "3           0        0    90             0              0         1  \n",
      "4           0        0    90             0              0         1  \n",
      "games\n",
      "   gameID  leagueID  season                 date  homeTeamID  awayTeamID  \\\n",
      "0      81         1    2015  2015-08-08 15:45:00          89          82   \n",
      "1      82         1    2015  2015-08-08 18:00:00          73          71   \n",
      "2      83         1    2015  2015-08-08 18:00:00          72          90   \n",
      "3      84         1    2015  2015-08-08 18:00:00          75          77   \n",
      "4      85         1    2015  2015-08-08 18:00:00          79          78   \n",
      "\n",
      "   homeGoals  awayGoals  homeProbability  drawProbability  ...   PSA   WHH  \\\n",
      "0          1          0           0.2843           0.3999  ...  5.90  1.62   \n",
      "1          0          1           0.3574           0.3500  ...  4.27  1.91   \n",
      "2          2          2           0.2988           0.4337  ...  5.62  1.73   \n",
      "3          4          2           0.6422           0.2057  ...  4.34  2.00   \n",
      "4          1          3           0.1461           0.2159  ...  3.08  2.60   \n",
      "\n",
      "   WHD   WHA   VCH   VCD   VCA  PSCH  PSCD  PSCA  \n",
      "0  3.6  6.00  1.67  4.00  5.75  1.64  4.07  6.04  \n",
      "1  3.5  4.00  2.00  3.50  4.20  1.82  3.88  4.70  \n",
      "2  3.5  5.00  1.73  3.90  5.40  1.75  3.76  5.44  \n",
      "3  3.1  2.70  2.00  3.40  4.33  1.79  3.74  5.10  \n",
      "4  3.1  2.88  2.60  3.25  3.00  2.46  3.39  3.14  \n",
      "\n",
      "[5 rows x 34 columns]\n",
      "leagues\n",
      "   leagueID            name understatNotation\n",
      "0         1  Premier League               EPL\n",
      "1         2         Serie A           Serie_A\n",
      "2         3      Bundesliga        Bundesliga\n",
      "3         4         La Liga           La_liga\n",
      "4         5         Ligue 1           Ligue_1\n",
      "players\n",
      "   playerID            name\n",
      "0       560   Sergio Romero\n",
      "1       557  Matteo Darmian\n",
      "2       548     Daley Blind\n",
      "3       628  Chris Smalling\n",
      "4      1006       Luke Shaw\n",
      "shots\n",
      "   gameID  shooterID  assisterID  minute       situation    lastAction  \\\n",
      "0      81        554         NaN      27  DirectFreekick      Standard   \n",
      "1      81        555       631.0      27        SetPiece          Pass   \n",
      "2      81        554       629.0      35        OpenPlay          Pass   \n",
      "3      81        554         NaN      35        OpenPlay        Tackle   \n",
      "4      81        555       654.0      40        OpenPlay  BallRecovery   \n",
      "\n",
      "    shotType   shotResult     xGoal  positionX  positionY  \n",
      "0   LeftFoot  BlockedShot  0.104347      0.794      0.421  \n",
      "1  RightFoot  BlockedShot  0.064342      0.860      0.627  \n",
      "2   LeftFoot  BlockedShot  0.057157      0.843      0.333  \n",
      "3   LeftFoot  MissedShots  0.092141      0.848      0.533  \n",
      "4  RightFoot  BlockedShot  0.035742      0.812      0.707  \n",
      "teams\n",
      "   teamID                  name\n",
      "0      71           Aston Villa\n",
      "1      72               Everton\n",
      "2      74           Southampton\n",
      "3      75             Leicester\n",
      "4      76  West Bromwich Albion\n",
      "teamstats\n",
      "   gameID  teamID  season                 date location  goals    xGoals  \\\n",
      "0      81      89    2015  2015-08-08 15:45:00        h      1  0.627539   \n",
      "1      81      82    2015  2015-08-08 15:45:00        a      0  0.674600   \n",
      "2      82      73    2015  2015-08-08 18:00:00        h      0  0.876106   \n",
      "3      82      71    2015  2015-08-08 18:00:00        a      1  0.782253   \n",
      "4      83      72    2015  2015-08-08 18:00:00        h      2  0.604226   \n",
      "\n",
      "   shots  shotsOnTarget  deep     ppda  fouls  corners  yellowCards  redCards  \\\n",
      "0      9              1     4  13.8261     12        1          2.0         0   \n",
      "1      9              4    10   8.2188     12        2          3.0         0   \n",
      "2     11              2    11   6.9000     13        6          3.0         0   \n",
      "3      7              3     2  11.8462     13        3          4.0         0   \n",
      "4     10              5     5   6.6500      7        8          1.0         0   \n",
      "\n",
      "  result  \n",
      "0      W  \n",
      "1      L  \n",
      "2      L  \n",
      "3      W  \n",
      "4      D  \n"
     ]
    }
   ],
   "source": [
    "print(\"appearances\")\n",
    "print(appearances.head())\n",
    "print(\"games\")\n",
    "print(games.head())\n",
    "print(\"leagues\")\n",
    "print(leagues.head())\n",
    "print(\"players\")\n",
    "print(players.head())\n",
    "print(\"shots\")\n",
    "print(shots.head())\n",
    "print(\"teams\")\n",
    "print(teams.head())\n",
    "print(\"teamstats\")\n",
    "print(teamstats.head())"
   ]
  },
  {
   "cell_type": "markdown",
   "id": "3d2fdd44-5c6e-436f-9182-f09aae684caa",
   "metadata": {
    "tags": []
   },
   "source": [
    "<b>Obtengo la cantidad de columnas de cada uno</b>"
   ]
  },
  {
   "cell_type": "code",
   "execution_count": 11,
   "id": "6fc9b364-0d13-41cf-b56b-ee481555a04e",
   "metadata": {
    "tags": []
   },
   "outputs": [
    {
     "name": "stdout",
     "output_type": "stream",
     "text": [
      "Appearances tiene 356513 filas y 19 columnas\n",
      "Games tiene 12680 filas y 34 columnas\n",
      "Leagues tiene 5 filas y 3 columnas\n",
      "Shots tiene 324543 filas y 11 columnas\n",
      "Teams tiene 146 filas y 2 columnas\n",
      "Teamstats tiene 25360 filas y 16 columnas\n",
      "Players tiene 7659 filas y 2 columnas\n"
     ]
    }
   ],
   "source": [
    "appearances_shape = appearances.shape\n",
    "games_shape = games.shape\n",
    "leagues_shape = leagues.shape\n",
    "shots_shape = shots.shape\n",
    "teams_shape = teams.shape\n",
    "teamstats_shape = teamstats.shape\n",
    "players_shape = players.shape\n",
    "print(\"Appearances tiene\", appearances_shape[0], \"filas y\", appearances_shape[1], \"columnas\")\n",
    "print(\"Games tiene\", games_shape[0], \"filas y\", games_shape[1], \"columnas\")\n",
    "print(\"Leagues tiene\", leagues_shape[0], \"filas y\", leagues_shape[1], \"columnas\")\n",
    "print(\"Shots tiene\", shots_shape[0], \"filas y\", shots_shape[1], \"columnas\")\n",
    "print(\"Teams tiene\", teams_shape[0], \"filas y\", teams_shape[1], \"columnas\")\n",
    "print(\"Teamstats tiene\", teamstats_shape[0], \"filas y\", teamstats_shape[1], \"columnas\")\n",
    "print(\"Players tiene\", players_shape[0], \"filas y\", players_shape[1], \"columnas\")"
   ]
  },
  {
   "cell_type": "markdown",
   "id": "3ee25e8b-c3f9-4c40-97f8-b28a2fcf7c7a",
   "metadata": {
    "tags": []
   },
   "source": [
    "<b>Descripcion de cada csv</b>"
   ]
  },
  {
   "cell_type": "code",
   "execution_count": 14,
   "id": "12746602-76ff-4223-97c8-6a79605840fe",
   "metadata": {
    "tags": []
   },
   "outputs": [
    {
     "name": "stdout",
     "output_type": "stream",
     "text": [
      "\n",
      "Descripción de appearances:\n",
      "              gameID       playerID          goals       ownGoals  \\\n",
      "count  356513.000000  356513.000000  356513.000000  356513.000000   \n",
      "mean     7974.122739    2888.112128       0.094574       0.002844   \n",
      "std      4790.920538    2365.073266       0.329592       0.053361   \n",
      "min        81.000000       1.000000       0.000000       0.000000   \n",
      "25%      3856.000000     952.000000       0.000000       0.000000   \n",
      "50%      8074.000000    2210.000000       0.000000       0.000000   \n",
      "75%     12154.000000    4345.000000       0.000000       0.000000   \n",
      "max     16135.000000    9568.000000       5.000000       2.000000   \n",
      "\n",
      "               shots         xGoals    xGoalsChain  xGoalsBuildup  \\\n",
      "count  356513.000000  356513.000000  356513.000000  356513.000000   \n",
      "mean        0.886447       0.096771       0.254942       0.149973   \n",
      "std         1.270494       0.224492       0.352763       0.249580   \n",
      "min         0.000000       0.000000       0.000000       0.000000   \n",
      "25%         0.000000       0.000000       0.018633       0.000000   \n",
      "50%         0.000000       0.000000       0.109935       0.046066   \n",
      "75%         1.000000       0.076644       0.370235       0.166904   \n",
      "max        14.000000       3.933408       5.052705       3.558237   \n",
      "\n",
      "             assists      keyPasses       xAssists  positionOrder  \\\n",
      "count  356513.000000  356513.000000  356513.000000  356513.000000   \n",
      "mean        0.066152       0.656666       0.067767       9.356655   \n",
      "std         0.265908       1.032937       0.160254       5.831530   \n",
      "min         0.000000       0.000000       0.000000       1.000000   \n",
      "25%         0.000000       0.000000       0.000000       3.000000   \n",
      "50%         0.000000       0.000000       0.000000       9.000000   \n",
      "75%         0.000000       1.000000       0.056451      15.000000   \n",
      "max         4.000000      12.000000       3.078499      17.000000   \n",
      "\n",
      "          yellowCard        redCard           time   substituteIn  \\\n",
      "count  356513.000000  356513.000000  356513.000000  356513.000000   \n",
      "mean        0.141445       0.007240      70.260714   51970.072631   \n",
      "std         0.348481       0.084777      29.822916  120148.262278   \n",
      "min         0.000000       0.000000       1.000000       0.000000   \n",
      "25%         0.000000       0.000000      58.000000       0.000000   \n",
      "50%         0.000000       0.000000      90.000000       0.000000   \n",
      "75%         0.000000       0.000000      90.000000       0.000000   \n",
      "max         1.000000       1.000000      90.000000  474107.000000   \n",
      "\n",
      "       substituteOut       leagueID  \n",
      "count  356513.000000  356513.000000  \n",
      "mean    51968.950341       2.991103  \n",
      "std    120146.437953       1.432223  \n",
      "min         0.000000       1.000000  \n",
      "25%         0.000000       2.000000  \n",
      "50%         0.000000       3.000000  \n",
      "75%         0.000000       4.000000  \n",
      "max    474101.000000       5.000000  \n",
      "\n",
      "Descripción de games:\n",
      "             gameID      leagueID        season    homeTeamID    awayTeamID  \\\n",
      "count  12680.000000  12680.000000  12680.000000  12680.000000  12680.000000   \n",
      "mean    7877.707334      2.983912   2016.984148    135.324842    135.333517   \n",
      "std     4753.774045      1.437191      2.000075     42.757999     42.767761   \n",
      "min       81.000000      1.000000   2014.000000     71.000000     71.000000   \n",
      "25%     3812.750000      2.000000   2015.000000    101.000000    101.000000   \n",
      "50%     7981.500000      3.000000   2017.000000    132.000000    132.000000   \n",
      "75%    12023.250000      4.000000   2019.000000    163.000000    163.000000   \n",
      "max    16135.000000      5.000000   2020.000000    262.000000    262.000000   \n",
      "\n",
      "          homeGoals     awayGoals  homeProbability  drawProbability  \\\n",
      "count  12680.000000  12680.000000     12680.000000     12680.000000   \n",
      "mean       1.533202      1.206625         0.448547         0.238177   \n",
      "std        1.306732      1.167718         0.284916         0.109579   \n",
      "min        0.000000      0.000000         0.000000         0.000000   \n",
      "25%        1.000000      0.000000         0.197450         0.163400   \n",
      "50%        1.000000      1.000000         0.428600         0.247400   \n",
      "75%        2.000000      2.000000         0.686400         0.307625   \n",
      "max       10.000000      9.000000         1.000000         0.859000   \n",
      "\n",
      "       awayProbability  ...           PSA           WHH           WHD  \\\n",
      "count     12680.000000  ...  12660.000000  12674.000000  12674.000000   \n",
      "mean          0.313276  ...      4.960691      2.814066      3.922736   \n",
      "std           0.262446  ...      4.589909      2.086847      1.289012   \n",
      "min           0.000000  ...      1.090000      1.020000      1.200000   \n",
      "25%           0.088800  ...      2.460000      1.700000      3.200000   \n",
      "50%           0.242100  ...      3.520000      2.250000      3.500000   \n",
      "75%           0.492725  ...      5.440000      3.000000      4.000000   \n",
      "max           0.999700  ...     48.750000     26.000000     19.000000   \n",
      "\n",
      "                WHA           VCH           VCD           VCA          PSCH  \\\n",
      "count  12674.000000  12676.000000  12676.000000  12676.000000  12678.000000   \n",
      "mean       4.715202      2.875784      4.121011      4.964436      2.944233   \n",
      "std        4.332977      2.280443      1.558112      4.945039      2.366988   \n",
      "min        1.080000      1.030000      2.200000      1.080000      1.040000   \n",
      "25%        2.400000      1.700000      3.300000      2.450000      1.700000   \n",
      "50%        3.300000      2.200000      3.600000      3.500000      2.250000   \n",
      "75%        5.000000      3.100000      4.200000      5.250000      3.150000   \n",
      "max       51.000000     36.000000     26.000000     67.000000     37.630000   \n",
      "\n",
      "               PSCD          PSCA  \n",
      "count  12678.000000  12678.000000  \n",
      "mean       4.237991      5.031667  \n",
      "std        1.729635      4.832513  \n",
      "min        2.300000      1.080000  \n",
      "25%        3.360000      2.450000  \n",
      "50%        3.660000      3.550000  \n",
      "75%        4.360000      5.540000  \n",
      "max       26.600000     52.770000  \n",
      "\n",
      "[8 rows x 33 columns]\n",
      "\n",
      "Descripción de leagues:\n",
      "       leagueID\n",
      "count  5.000000\n",
      "mean   3.000000\n",
      "std    1.581139\n",
      "min    1.000000\n",
      "25%    2.000000\n",
      "50%    3.000000\n",
      "75%    4.000000\n",
      "max    5.000000\n",
      "\n",
      "Descripción de shots:\n",
      "              gameID      shooterID     assisterID         minute  \\\n",
      "count  324543.000000  324543.000000  240199.000000  324543.000000   \n",
      "mean     7832.533381    2691.279211    2685.515439      48.573588   \n",
      "std      4729.926230    2272.984642    2286.099575      26.578582   \n",
      "min        81.000000       2.000000       1.000000       0.000000   \n",
      "25%      3808.000000     845.000000     835.000000      26.000000   \n",
      "50%      7966.000000    2080.000000    2094.000000      49.000000   \n",
      "75%     11954.000000    3785.000000    3744.000000      71.000000   \n",
      "max     16135.000000    9567.000000    9567.000000     104.000000   \n",
      "\n",
      "               xGoal      positionX      positionY  \n",
      "count  324543.000000  324543.000000  324543.000000  \n",
      "mean        0.108760       0.843968       0.504613  \n",
      "std         0.160913       0.090014       0.129372  \n",
      "min         0.000000       0.003000       0.000000  \n",
      "25%         0.024060       0.781000       0.414000  \n",
      "50%         0.049969       0.863000       0.501000  \n",
      "75%         0.094484       0.909000       0.597000  \n",
      "max         0.979887       0.999000       0.997000  \n",
      "\n",
      "Descripción de teams:\n",
      "           teamID\n",
      "count  146.000000\n",
      "mean   150.150685\n",
      "std     52.183938\n",
      "min     71.000000\n",
      "25%    107.250000\n",
      "50%    143.500000\n",
      "75%    179.750000\n",
      "max    262.000000\n",
      "\n",
      "Descripción de teamstats:\n",
      "             gameID        teamID        season         goals        xGoals  \\\n",
      "count  25360.000000  25360.000000  25360.000000  25360.000000  25360.000000   \n",
      "mean    7877.707334    135.329180   2016.984148      1.369913      1.340431   \n",
      "std     4753.680315     42.762037      2.000036      1.249864      0.851634   \n",
      "min       81.000000     71.000000   2014.000000      0.000000      0.000000   \n",
      "25%     3812.750000    101.000000   2015.000000      0.000000      0.701658   \n",
      "50%     7981.500000    132.000000   2017.000000      1.000000      1.184050   \n",
      "75%    12023.250000    163.000000   2019.000000      2.000000      1.813830   \n",
      "max    16135.000000    262.000000   2020.000000     10.000000      6.630490   \n",
      "\n",
      "              shots  shotsOnTarget          deep          ppda         fouls  \\\n",
      "count  25360.000000   25360.000000  25360.000000  25360.000000  25360.000000   \n",
      "mean      12.461751       4.317468      5.820465     11.165713     12.955560   \n",
      "std        5.123449       2.471407      4.050207      6.337107      4.204289   \n",
      "min        0.000000       0.000000      0.000000      1.897400      0.000000   \n",
      "25%        9.000000       3.000000      3.000000      7.103200     10.000000   \n",
      "50%       12.000000       4.000000      5.000000      9.720000     13.000000   \n",
      "75%       16.000000       6.000000      8.000000     13.400000     16.000000   \n",
      "max       47.000000      18.000000     42.000000    152.000000     33.000000   \n",
      "\n",
      "            corners   yellowCards      redCards  \n",
      "count  25360.000000  25359.000000  25360.000000  \n",
      "mean       4.977721      2.032257      0.103194  \n",
      "std        2.831523      1.367856      0.322466  \n",
      "min        0.000000      0.000000      0.000000  \n",
      "25%        3.000000      1.000000      0.000000  \n",
      "50%        5.000000      2.000000      0.000000  \n",
      "75%        7.000000      3.000000      0.000000  \n",
      "max       20.000000      9.000000      3.000000  \n",
      "\n",
      "Descripción de players:\n",
      "          playerID\n",
      "count  7659.000000\n",
      "mean   4450.761065\n",
      "std    2740.818848\n",
      "min       1.000000\n",
      "25%    2099.500000\n",
      "50%    4250.000000\n",
      "75%    6836.500000\n",
      "max    9799.000000\n"
     ]
    }
   ],
   "source": [
    "print(\"\\nDescripción de appearances:\")\n",
    "print(appearances.describe())\n",
    "\n",
    "print(\"\\nDescripción de games:\")\n",
    "print(games.describe())\n",
    "\n",
    "print(\"\\nDescripción de leagues:\")\n",
    "print(leagues.describe())\n",
    "\n",
    "print(\"\\nDescripción de shots:\")\n",
    "print(shots.describe())\n",
    "\n",
    "print(\"\\nDescripción de teams:\")\n",
    "print(teams.describe())\n",
    "\n",
    "print(\"\\nDescripción de teamstats:\")\n",
    "print(teamstats.describe())\n",
    "\n",
    "print(\"\\nDescripción de players:\")\n",
    "print(players.describe())"
   ]
  },
  {
   "cell_type": "markdown",
   "id": "ff130cad-2bd6-44b1-b792-18ff0d95231e",
   "metadata": {},
   "source": [
    "<h2>Limpieza de datos </h2>"
   ]
  },
  {
   "cell_type": "code",
   "execution_count": 17,
   "id": "48a0d148-45d8-482b-9231-a087114b2f33",
   "metadata": {
    "tags": []
   },
   "outputs": [
    {
     "name": "stdout",
     "output_type": "stream",
     "text": [
      "<class 'pandas.core.frame.DataFrame'>\n",
      "RangeIndex: 356513 entries, 0 to 356512\n",
      "Data columns (total 19 columns):\n",
      " #   Column         Non-Null Count   Dtype  \n",
      "---  ------         --------------   -----  \n",
      " 0   gameID         356513 non-null  int64  \n",
      " 1   playerID       356513 non-null  int64  \n",
      " 2   goals          356513 non-null  int64  \n",
      " 3   ownGoals       356513 non-null  int64  \n",
      " 4   shots          356513 non-null  int64  \n",
      " 5   xGoals         356513 non-null  float64\n",
      " 6   xGoalsChain    356513 non-null  float64\n",
      " 7   xGoalsBuildup  356513 non-null  float64\n",
      " 8   assists        356513 non-null  int64  \n",
      " 9   keyPasses      356513 non-null  int64  \n",
      " 10  xAssists       356513 non-null  float64\n",
      " 11  position       356513 non-null  object \n",
      " 12  positionOrder  356513 non-null  int64  \n",
      " 13  yellowCard     356513 non-null  int64  \n",
      " 14  redCard        356513 non-null  int64  \n",
      " 15  time           356513 non-null  int64  \n",
      " 16  substituteIn   356513 non-null  int64  \n",
      " 17  substituteOut  356513 non-null  int64  \n",
      " 18  leagueID       356513 non-null  int64  \n",
      "dtypes: float64(4), int64(14), object(1)\n",
      "memory usage: 51.7+ MB\n",
      "None\n"
     ]
    }
   ],
   "source": [
    "print(appearances.info())"
   ]
  },
  {
   "cell_type": "markdown",
   "id": "55c2f6fd-b09f-45ef-abb0-710fbda3f83f",
   "metadata": {
    "tags": []
   },
   "source": [
    "<b>Appeareances es valido</b>"
   ]
  },
  {
   "cell_type": "code",
   "execution_count": 20,
   "id": "796a103a-0ca9-4d88-bd18-eca296a13298",
   "metadata": {
    "tags": []
   },
   "outputs": [
    {
     "name": "stdout",
     "output_type": "stream",
     "text": [
      "<class 'pandas.core.frame.DataFrame'>\n",
      "RangeIndex: 12680 entries, 0 to 12679\n",
      "Data columns (total 34 columns):\n",
      " #   Column             Non-Null Count  Dtype  \n",
      "---  ------             --------------  -----  \n",
      " 0   gameID             12680 non-null  int64  \n",
      " 1   leagueID           12680 non-null  int64  \n",
      " 2   season             12680 non-null  int64  \n",
      " 3   date               12680 non-null  object \n",
      " 4   homeTeamID         12680 non-null  int64  \n",
      " 5   awayTeamID         12680 non-null  int64  \n",
      " 6   homeGoals          12680 non-null  int64  \n",
      " 7   awayGoals          12680 non-null  int64  \n",
      " 8   homeProbability    12680 non-null  float64\n",
      " 9   drawProbability    12680 non-null  float64\n",
      " 10  awayProbability    12680 non-null  float64\n",
      " 11  homeGoalsHalfTime  12680 non-null  int64  \n",
      " 12  awayGoalsHalfTime  12680 non-null  int64  \n",
      " 13  B365H              12675 non-null  float64\n",
      " 14  B365D              12675 non-null  float64\n",
      " 15  B365A              12675 non-null  float64\n",
      " 16  BWH                12677 non-null  float64\n",
      " 17  BWD                12677 non-null  float64\n",
      " 18  BWA                12677 non-null  float64\n",
      " 19  IWH                12662 non-null  float64\n",
      " 20  IWD                12662 non-null  float64\n",
      " 21  IWA                12662 non-null  float64\n",
      " 22  PSH                12660 non-null  float64\n",
      " 23  PSD                12660 non-null  float64\n",
      " 24  PSA                12660 non-null  float64\n",
      " 25  WHH                12674 non-null  float64\n",
      " 26  WHD                12674 non-null  float64\n",
      " 27  WHA                12674 non-null  float64\n",
      " 28  VCH                12676 non-null  float64\n",
      " 29  VCD                12676 non-null  float64\n",
      " 30  VCA                12676 non-null  float64\n",
      " 31  PSCH               12678 non-null  float64\n",
      " 32  PSCD               12678 non-null  float64\n",
      " 33  PSCA               12678 non-null  float64\n",
      "dtypes: float64(24), int64(9), object(1)\n",
      "memory usage: 3.3+ MB\n",
      "None\n"
     ]
    }
   ],
   "source": [
    "print(games.info())"
   ]
  },
  {
   "cell_type": "markdown",
   "id": "8db83e03-dd78-4032-9282-3a5b4b4f7245",
   "metadata": {},
   "source": [
    "<b>Hay valores nulos</b> </br>\n",
    "<b>Manejo de valores nulos de games</b>"
   ]
  },
  {
   "cell_type": "code",
   "execution_count": 23,
   "id": "860ddafe-f835-4d07-94fe-fcb95dc41644",
   "metadata": {},
   "outputs": [
    {
     "name": "stdout",
     "output_type": "stream",
     "text": [
      "gameID                0\n",
      "leagueID              0\n",
      "season                0\n",
      "date                  0\n",
      "homeTeamID            0\n",
      "awayTeamID            0\n",
      "homeGoals             0\n",
      "awayGoals             0\n",
      "homeProbability       0\n",
      "drawProbability       0\n",
      "awayProbability       0\n",
      "homeGoalsHalfTime     0\n",
      "awayGoalsHalfTime     0\n",
      "B365H                 5\n",
      "B365D                 5\n",
      "B365A                 5\n",
      "BWH                   3\n",
      "BWD                   3\n",
      "BWA                   3\n",
      "IWH                  18\n",
      "IWD                  18\n",
      "IWA                  18\n",
      "PSH                  20\n",
      "PSD                  20\n",
      "PSA                  20\n",
      "WHH                   6\n",
      "WHD                   6\n",
      "WHA                   6\n",
      "VCH                   4\n",
      "VCD                   4\n",
      "VCA                   4\n",
      "PSCH                  2\n",
      "PSCD                  2\n",
      "PSCA                  2\n",
      "dtype: int64\n"
     ]
    }
   ],
   "source": [
    "print(games.isnull().sum())"
   ]
  },
  {
   "cell_type": "markdown",
   "id": "6e3961c9-c178-4f7b-89bd-22b6903abdce",
   "metadata": {
    "tags": []
   },
   "source": [
    "<b>Como son apuestas, usaremos -1 y al momento de tomarlas en cuenta lo incorporo. </b>"
   ]
  },
  {
   "cell_type": "code",
   "execution_count": 26,
   "id": "8fd72f69-7d50-45ca-a64a-9799aec3c2aa",
   "metadata": {
    "tags": []
   },
   "outputs": [
    {
     "name": "stdout",
     "output_type": "stream",
     "text": [
      "gameID               0\n",
      "leagueID             0\n",
      "season               0\n",
      "date                 0\n",
      "homeTeamID           0\n",
      "awayTeamID           0\n",
      "homeGoals            0\n",
      "awayGoals            0\n",
      "homeProbability      0\n",
      "drawProbability      0\n",
      "awayProbability      0\n",
      "homeGoalsHalfTime    0\n",
      "awayGoalsHalfTime    0\n",
      "B365H                0\n",
      "B365D                0\n",
      "B365A                0\n",
      "BWH                  0\n",
      "BWD                  0\n",
      "BWA                  0\n",
      "IWH                  0\n",
      "IWD                  0\n",
      "IWA                  0\n",
      "PSH                  0\n",
      "PSD                  0\n",
      "PSA                  0\n",
      "WHH                  0\n",
      "WHD                  0\n",
      "WHA                  0\n",
      "VCH                  0\n",
      "VCD                  0\n",
      "VCA                  0\n",
      "PSCH                 0\n",
      "PSCD                 0\n",
      "PSCA                 0\n",
      "dtype: int64\n"
     ]
    }
   ],
   "source": [
    "faltantes = ['B365H', 'B365D', 'B365A', 'BWH', 'BWD', 'BWA', 'IWH', 'IWD', 'IWA',\n",
    "                   'PSH', 'PSD', 'PSA', 'WHH', 'WHD', 'WHA', 'VCH', 'VCD', 'VCA',\n",
    "                   'PSCH', 'PSCD', 'PSCA']\n",
    "\n",
    "games[faltantes] = games[faltantes].fillna(-1)\n",
    "print(games.isnull().sum())"
   ]
  },
  {
   "cell_type": "markdown",
   "id": "1cd1017c-123e-4334-be1b-21c1e429284c",
   "metadata": {},
   "source": [
    "<b>Games ahora es valido.</b>"
   ]
  },
  {
   "cell_type": "code",
   "execution_count": 29,
   "id": "f5ebb05b-84ce-4dd8-82a5-a985cfbb4599",
   "metadata": {
    "tags": []
   },
   "outputs": [
    {
     "name": "stdout",
     "output_type": "stream",
     "text": [
      "<class 'pandas.core.frame.DataFrame'>\n",
      "RangeIndex: 5 entries, 0 to 4\n",
      "Data columns (total 3 columns):\n",
      " #   Column             Non-Null Count  Dtype \n",
      "---  ------             --------------  ----- \n",
      " 0   leagueID           5 non-null      int64 \n",
      " 1   name               5 non-null      object\n",
      " 2   understatNotation  5 non-null      object\n",
      "dtypes: int64(1), object(2)\n",
      "memory usage: 252.0+ bytes\n",
      "None\n"
     ]
    }
   ],
   "source": [
    "print(leagues.info())"
   ]
  },
  {
   "cell_type": "markdown",
   "id": "0e20e997-c063-450d-8ccf-66e3c46f9668",
   "metadata": {},
   "source": [
    "<b>Leagues es valido</b>"
   ]
  },
  {
   "cell_type": "code",
   "execution_count": 32,
   "id": "01858c3a-b179-4899-a6af-ca8610fc116f",
   "metadata": {
    "tags": []
   },
   "outputs": [
    {
     "name": "stdout",
     "output_type": "stream",
     "text": [
      "<class 'pandas.core.frame.DataFrame'>\n",
      "RangeIndex: 324543 entries, 0 to 324542\n",
      "Data columns (total 11 columns):\n",
      " #   Column      Non-Null Count   Dtype  \n",
      "---  ------      --------------   -----  \n",
      " 0   gameID      324543 non-null  int64  \n",
      " 1   shooterID   324543 non-null  int64  \n",
      " 2   assisterID  240199 non-null  float64\n",
      " 3   minute      324543 non-null  int64  \n",
      " 4   situation   324543 non-null  object \n",
      " 5   lastAction  287647 non-null  object \n",
      " 6   shotType    324543 non-null  object \n",
      " 7   shotResult  324543 non-null  object \n",
      " 8   xGoal       324543 non-null  float64\n",
      " 9   positionX   324543 non-null  float64\n",
      " 10  positionY   324543 non-null  float64\n",
      "dtypes: float64(4), int64(3), object(4)\n",
      "memory usage: 27.2+ MB\n",
      "None\n"
     ]
    }
   ],
   "source": [
    "print(shots.info())"
   ]
  },
  {
   "cell_type": "markdown",
   "id": "e51e3e60-34ff-48e8-a94c-60dcb70c0a21",
   "metadata": {
    "tags": []
   },
   "source": [
    "<b>Manejo de valores nulos de shots</b>"
   ]
  },
  {
   "cell_type": "code",
   "execution_count": 35,
   "id": "8ac2aa68-a07a-46ef-a996-e006f2942166",
   "metadata": {
    "tags": []
   },
   "outputs": [
    {
     "name": "stdout",
     "output_type": "stream",
     "text": [
      "gameID            0\n",
      "shooterID         0\n",
      "assisterID    84344\n",
      "minute            0\n",
      "situation         0\n",
      "lastAction    36896\n",
      "shotType          0\n",
      "shotResult        0\n",
      "xGoal             0\n",
      "positionX         0\n",
      "positionY         0\n",
      "dtype: int64\n"
     ]
    }
   ],
   "source": [
    "print(shots.isnull().sum())"
   ]
  },
  {
   "cell_type": "markdown",
   "id": "f371e5bf-33ae-480a-a030-802f1a4fd906",
   "metadata": {
    "tags": []
   },
   "source": [
    "<b>Las asistencias se manejan como -1, Se asume que no hay asistencias. </b>\n",
    "<b>Con los dataset actuales La recuperacion del datos si hay error puede ser tortuosa.</b>"
   ]
  },
  {
   "cell_type": "code",
   "execution_count": 38,
   "id": "997fe5ba-ed20-44f7-bce6-135c44232246",
   "metadata": {
    "tags": []
   },
   "outputs": [],
   "source": [
    "asistencias = ['assisterID']\n",
    "shots[asistencias] = shots[asistencias].fillna(-1)"
   ]
  },
  {
   "cell_type": "markdown",
   "id": "b6629fdf-8d22-417e-969a-b1c61d0051b3",
   "metadata": {
    "tags": []
   },
   "source": [
    "<b>Para las acciones, se necesita informacion adicional. Hay varios casos en el cual no hay jugada anterior si comenzo el partido, existio un gol o comenzo la segunda parte o el partido fue cortado.</b>"
   ]
  },
  {
   "cell_type": "code",
   "execution_count": 41,
   "id": "07f4e210-5571-448f-81af-364d55ddabce",
   "metadata": {
    "tags": []
   },
   "outputs": [
    {
     "name": "stdout",
     "output_type": "stream",
     "text": [
      "Tipos de situaciones: ['DirectFreekick' 'SetPiece' 'OpenPlay' 'FromCorner' 'Penalty']\n",
      "Tipos de últimas acciones: ['Standard' 'Pass' 'Tackle' 'BallRecovery' nan 'Cross' 'Chipped' 'Rebound'\n",
      " 'Aerial' 'Dispossessed' 'Throughball' 'HeadPass' 'TakeOn' 'LayOff'\n",
      " 'BallTouch' 'Interception' 'Foul' 'Save' 'BlockedPass' 'Challenge' 'End'\n",
      " 'Goal' 'Clearance' 'CornerAwarded' 'GoodSkill' 'OffsidePass' 'Error'\n",
      " 'KeeperSweeper' 'Card' 'SubstitutionOn' 'PenaltyFaced' 'Start' 'Punch'\n",
      " 'ShieldBallOpp' 'OffsideProvoked' 'CrossNotClaimed' 'FormationChange'\n",
      " 'KeeperPickup' 'ChanceMissed' 'Smother' 'SubstitutionOff']\n",
      "        gameID  shooterID  assisterID  minute situation lastAction   shotType  \\\n",
      "6           81        631        -1.0      64  OpenPlay        NaN  RightFoot   \n",
      "15          81        639        -1.0      46  SetPiece        NaN  RightFoot   \n",
      "28          82        460        -1.0      75  SetPiece        NaN   LeftFoot   \n",
      "33          82        890        -1.0      67  OpenPlay        NaN   LeftFoot   \n",
      "46          83        594        -1.0      88  OpenPlay        NaN   LeftFoot   \n",
      "...        ...        ...         ...     ...       ...        ...        ...   \n",
      "324504   16134       3781        -1.0       7  OpenPlay        NaN  RightFoot   \n",
      "324514   16134       3781        -1.0      52  OpenPlay        NaN  RightFoot   \n",
      "324523   16134       8755        -1.0      41  SetPiece        NaN  RightFoot   \n",
      "324530   16135       5769        -1.0      17  OpenPlay        NaN       Head   \n",
      "324540   16135       3464        -1.0      70  OpenPlay        NaN   LeftFoot   \n",
      "\n",
      "         shotResult     xGoal  positionX  positionY  \n",
      "6         SavedShot  0.103004      0.896      0.597  \n",
      "15        SavedShot  0.035958      0.849      0.672  \n",
      "28      MissedShots  0.040378      0.835      0.633  \n",
      "33      BlockedShot  0.075484      0.860      0.503  \n",
      "46        SavedShot  0.044931      0.944      0.717  \n",
      "...             ...       ...        ...        ...  \n",
      "324504    SavedShot  0.019896      0.789      0.682  \n",
      "324514  BlockedShot  0.042620      0.849      0.663  \n",
      "324523  MissedShots  0.009771      0.707      0.501  \n",
      "324530         Goal  0.220236      0.868      0.555  \n",
      "324540  MissedShots  0.009242      0.738      0.774  \n",
      "\n",
      "[36896 rows x 11 columns]\n"
     ]
    }
   ],
   "source": [
    "situations = shots['situation'].unique()\n",
    "last_actions = shots['lastAction'].unique()\n",
    "\n",
    "print(\"Tipos de situaciones:\", situations)\n",
    "print(\"Tipos de últimas acciones:\", last_actions)\n",
    "last_action_nula = shots[shots['lastAction'].isnull()]\n",
    "print(last_action_nula)"
   ]
  },
  {
   "cell_type": "markdown",
   "id": "c0e39456-eb97-4a4c-8939-5b6b82219071",
   "metadata": {},
   "source": [
    "<b>Averiguo cuales son para decidir como manejarlas. </b>"
   ]
  },
  {
   "cell_type": "code",
   "execution_count": 44,
   "id": "4712a5c9-f39d-4fe7-82cc-dd659c1ddc57",
   "metadata": {
    "tags": []
   },
   "outputs": [
    {
     "name": "stdout",
     "output_type": "stream",
     "text": [
      "\n",
      "Frecuencia de situaciones donde 'lastAction' es 'Nan':\n",
      "situation\n",
      "OpenPlay      24390\n",
      "FromCorner     8663\n",
      "SetPiece       3843\n",
      "Name: count, dtype: int64\n"
     ]
    }
   ],
   "source": [
    "situation_counts = last_action_nula['situation'].value_counts()\n",
    "\n",
    "print(\"\\nFrecuencia de situaciones donde 'lastAction' es 'Nan':\")\n",
    "print(situation_counts)"
   ]
  },
  {
   "cell_type": "markdown",
   "id": "b3bcd3f3-984a-4014-95de-1c614c2589d9",
   "metadata": {
    "tags": []
   },
   "source": [
    "<b>Las tres tipos de jugadas tecnicamente tendian una acion inmediata. Por lo que se asume que no fueron asignados durante el dataset.</b>"
   ]
  },
  {
   "cell_type": "code",
   "execution_count": 47,
   "id": "c416e03d-8f61-4229-8647-e512ea7e4002",
   "metadata": {
    "tags": []
   },
   "outputs": [
    {
     "name": "stdout",
     "output_type": "stream",
     "text": [
      "gameID        0\n",
      "shooterID     0\n",
      "assisterID    0\n",
      "minute        0\n",
      "situation     0\n",
      "lastAction    0\n",
      "shotType      0\n",
      "shotResult    0\n",
      "xGoal         0\n",
      "positionX     0\n",
      "positionY     0\n",
      "dtype: int64\n"
     ]
    }
   ],
   "source": [
    "shots['lastAction'].fillna('Unknown', inplace=True)\n",
    "print(shots.isnull().sum())"
   ]
  },
  {
   "cell_type": "markdown",
   "id": "d2d6ff5f-cde4-4ea9-8471-2633085dca15",
   "metadata": {},
   "source": [
    "<b>Shots es valido ahora.</b>"
   ]
  },
  {
   "cell_type": "code",
   "execution_count": 50,
   "id": "1267810a-4705-4519-959e-91a79326d02d",
   "metadata": {
    "tags": []
   },
   "outputs": [
    {
     "name": "stdout",
     "output_type": "stream",
     "text": [
      "<class 'pandas.core.frame.DataFrame'>\n",
      "RangeIndex: 146 entries, 0 to 145\n",
      "Data columns (total 2 columns):\n",
      " #   Column  Non-Null Count  Dtype \n",
      "---  ------  --------------  ----- \n",
      " 0   teamID  146 non-null    int64 \n",
      " 1   name    146 non-null    object\n",
      "dtypes: int64(1), object(1)\n",
      "memory usage: 2.4+ KB\n",
      "None\n"
     ]
    }
   ],
   "source": [
    "print(teams.info())"
   ]
  },
  {
   "cell_type": "markdown",
   "id": "c42bc092-c6e3-4a44-8270-c62f8fb5d8fc",
   "metadata": {},
   "source": [
    "<b>Teams es correcto</b>"
   ]
  },
  {
   "cell_type": "code",
   "execution_count": 53,
   "id": "ea28d158-3f2f-4395-825a-026f5fbab3d9",
   "metadata": {
    "tags": []
   },
   "outputs": [
    {
     "name": "stdout",
     "output_type": "stream",
     "text": [
      "<class 'pandas.core.frame.DataFrame'>\n",
      "RangeIndex: 25360 entries, 0 to 25359\n",
      "Data columns (total 16 columns):\n",
      " #   Column         Non-Null Count  Dtype  \n",
      "---  ------         --------------  -----  \n",
      " 0   gameID         25360 non-null  int64  \n",
      " 1   teamID         25360 non-null  int64  \n",
      " 2   season         25360 non-null  int64  \n",
      " 3   date           25360 non-null  object \n",
      " 4   location       25360 non-null  object \n",
      " 5   goals          25360 non-null  int64  \n",
      " 6   xGoals         25360 non-null  float64\n",
      " 7   shots          25360 non-null  int64  \n",
      " 8   shotsOnTarget  25360 non-null  int64  \n",
      " 9   deep           25360 non-null  int64  \n",
      " 10  ppda           25360 non-null  float64\n",
      " 11  fouls          25360 non-null  int64  \n",
      " 12  corners        25360 non-null  int64  \n",
      " 13  yellowCards    25359 non-null  float64\n",
      " 14  redCards       25360 non-null  int64  \n",
      " 15  result         25360 non-null  object \n",
      "dtypes: float64(3), int64(10), object(3)\n",
      "memory usage: 3.1+ MB\n",
      "None\n"
     ]
    }
   ],
   "source": [
    "print(teamstats.info())"
   ]
  },
  {
   "cell_type": "markdown",
   "id": "f9804072-633d-421f-bafa-190d451aa678",
   "metadata": {
    "tags": []
   },
   "source": [
    "<b>Manejo de valores nulos de teamstats</b>"
   ]
  },
  {
   "cell_type": "code",
   "execution_count": 56,
   "id": "935cfa3d-0863-4f5d-9660-8c8a0c2ea78e",
   "metadata": {
    "tags": []
   },
   "outputs": [
    {
     "name": "stdout",
     "output_type": "stream",
     "text": [
      "gameID           0\n",
      "teamID           0\n",
      "season           0\n",
      "date             0\n",
      "location         0\n",
      "goals            0\n",
      "xGoals           0\n",
      "shots            0\n",
      "shotsOnTarget    0\n",
      "deep             0\n",
      "ppda             0\n",
      "fouls            0\n",
      "corners          0\n",
      "yellowCards      1\n",
      "redCards         0\n",
      "result           0\n",
      "dtype: int64\n"
     ]
    }
   ],
   "source": [
    "print(teamstats.isnull().sum())"
   ]
  },
  {
   "cell_type": "markdown",
   "id": "a8e3fdc8-f5e2-4c65-bd69-8cd229f52dee",
   "metadata": {
    "tags": []
   },
   "source": [
    "<b>Hay un valor sin asignar, Este se podria obtener de la tabla appereances.</b>"
   ]
  },
  {
   "cell_type": "code",
   "execution_count": 59,
   "id": "275fd4c2-e161-41ab-9ef2-16224225ad81",
   "metadata": {
    "tags": []
   },
   "outputs": [
    {
     "name": "stdout",
     "output_type": "stream",
     "text": [
      "        gameID  playerID  goals  ownGoals  shots    xGoals  xGoalsChain  \\\n",
      "114731    4888      1825      0         0      0  0.000000     0.000000   \n",
      "114732    4888      1438      0         0      0  0.000000     0.000000   \n",
      "114733    4888      3272      0         0      0  0.000000     0.017403   \n",
      "114734    4888      1246      0         0      1  0.025408     0.036464   \n",
      "114735    4888       568      0         0      0  0.000000     0.013004   \n",
      "114736    4888      2011      1         0      2  0.145094     0.027668   \n",
      "114737    4888      1290      0         0      1  0.034018     0.053867   \n",
      "114738    4888      1249      0         0      0  0.000000     0.000000   \n",
      "114739    4888      1943      0         0      1  0.036464     0.138106   \n",
      "114740    4888      1255      0         0      0  0.000000     0.000000   \n",
      "114741    4888      1187      0         0      0  0.000000     0.000000   \n",
      "114742    4888      1254      0         0      0  0.000000     0.036464   \n",
      "114743    4888       827      0         0      2  0.101642     0.101642   \n",
      "114744    4888      1251      0         0      1  0.013004     0.097243   \n",
      "114745    4888      1285      0         0      0  0.000000     0.000000   \n",
      "114746    4888      1287      0         0      0  0.000000     0.157656   \n",
      "114747    4888      1942      0         0      0  0.000000     0.129881   \n",
      "114748    4888      1576      0         0      0  0.000000     0.056340   \n",
      "114749    4888      1303      0         0      1  0.014283     0.204243   \n",
      "114750    4888      1298      0         0      0  0.000000     0.148891   \n",
      "114751    4888      1300      0         0      0  0.000000     0.192716   \n",
      "114752    4888      1723      0         0      1  0.068884     0.271834   \n",
      "114753    4888       222      0         0      2  0.133174     0.290844   \n",
      "114754    4888      3848      1         0      4  0.301300     0.280067   \n",
      "114755    4888      1804      0         0      2  0.116419     0.177430   \n",
      "114756    4888       226      0         0      0  0.000000     0.000000   \n",
      "114757    4888      1403      0         0      0  0.000000     0.000000   \n",
      "\n",
      "        xGoalsBuildup  assists  keyPasses  xAssists position  positionOrder  \\\n",
      "114731       0.000000        0          0  0.000000       GK              1   \n",
      "114732       0.000000        0          0  0.000000       DR              2   \n",
      "114733       0.017403        0          0  0.000000       DC              3   \n",
      "114734       0.036464        0          0  0.000000       DC              3   \n",
      "114735       0.000000        0          1  0.013004       DL              4   \n",
      "114736       0.017403        0          0  0.000000       MC              9   \n",
      "114737       0.017403        0          1  0.036464       MC              9   \n",
      "114738       0.000000        0          0  0.000000       MC              9   \n",
      "114739       0.084239        0          1  0.017403      FWR             14   \n",
      "114740       0.000000        0          0  0.000000       FW             15   \n",
      "114741       0.000000        0          0  0.000000      FWL             16   \n",
      "114742       0.036464        1          2  0.160236      Sub             17   \n",
      "114743       0.000000        0          0  0.000000      Sub             17   \n",
      "114744       0.084239        0          1  0.084239      Sub             17   \n",
      "114745       0.000000        0          0  0.000000       GK              1   \n",
      "114746       0.157656        0          0  0.000000       DC              3   \n",
      "114747       0.129881        0          0  0.000000       DC              3   \n",
      "114748       0.056340        0          0  0.000000       DC              3   \n",
      "114749       0.115598        0          1  0.074362      DMR              5   \n",
      "114750       0.056340        0          1  0.092551      DML              6   \n",
      "114751       0.129881        0          2  0.077117       MC              9   \n",
      "114752       0.202950        0          2  0.156221       MC              9   \n",
      "114753       0.000000        0          3  0.157670       MC              9   \n",
      "114754       0.054906        0          0  0.000000       FW             15   \n",
      "114755       0.061011        0          0  0.000000       FW             15   \n",
      "114756       0.000000        0          0  0.000000      Sub             17   \n",
      "114757       0.000000        0          0  0.000000      Sub             17   \n",
      "\n",
      "        yellowCard  redCard  time  substituteIn  substituteOut  leagueID  \n",
      "114731           0        0    90             0              0         2  \n",
      "114732           0        1    62             0              0         2  \n",
      "114733           1        0    90             0              0         2  \n",
      "114734           0        0    90             0              0         2  \n",
      "114735           0        0    90             0              0         2  \n",
      "114736           0        0    90             0              0         2  \n",
      "114737           1        0    90             0              0         2  \n",
      "114738           1        0    73         52994              0         2  \n",
      "114739           0        0    90             0              0         2  \n",
      "114740           0        0    71         52993              0         2  \n",
      "114741           0        0    65         52995              0         2  \n",
      "114742           0        0    25             0          52992         2  \n",
      "114743           0        0    19             0          52991         2  \n",
      "114744           1        0    17             0          52988         2  \n",
      "114745           0        0    90             0              0         2  \n",
      "114746           0        0    90             0              0         2  \n",
      "114747           0        0    90             0              0         2  \n",
      "114748           1        0    90             0              0         2  \n",
      "114749           0        0    90         53008              0         2  \n",
      "114750           1        0    90             0              0         2  \n",
      "114751           1        0    90             0              0         2  \n",
      "114752           0        0    90             0              0         2  \n",
      "114753           1        0    90             0              0         2  \n",
      "114754           0        0    90             0              0         2  \n",
      "114755           1        0    83         53007              0         2  \n",
      "114756           0        0     7             0          53006         2  \n",
      "114757           0        0     1             0          53000         2  \n"
     ]
    }
   ],
   "source": [
    "faltante = teamstats[teamstats['yellowCards'].isna()]['gameID']\n",
    "\n",
    "# Filtrar los registros en appearances que corresponden a ese partido\n",
    "total_amarillas = appearances[appearances['gameID'].isin(faltante)]\n",
    "\n",
    "print(total_amarillas)"
   ]
  },
  {
   "cell_type": "markdown",
   "id": "2ccca4a6-6313-467e-a8fb-b4e9c722002b",
   "metadata": {
    "tags": []
   },
   "source": [
    "<b>Como petenecen al mismo partido, filtramos los registros en 'appearances' que corresponden al gameID 4888</b>"
   ]
  },
  {
   "cell_type": "code",
   "execution_count": 62,
   "id": "bef2a105-8562-4b25-bf1b-a30dba3ba7d3",
   "metadata": {
    "tags": []
   },
   "outputs": [
    {
     "name": "stdout",
     "output_type": "stream",
     "text": [
      "      gameID  leagueID  season                 date  homeTeamID  awayTeamID  \\\n",
      "4140    4888         2    2014  2015-03-02 19:45:00          95          98   \n",
      "\n",
      "      homeGoals  awayGoals  homeProbability  drawProbability  ...   PSA  WHH  \\\n",
      "4140          1          1           0.1789           0.4592  ...  2.35  3.1   \n",
      "\n",
      "      WHD  WHA  VCH   VCD   VCA  PSCH  PSCD  PSCA  \n",
      "4140  3.1  2.4  3.4  3.25  2.38  3.05  3.17  2.66  \n",
      "\n",
      "[1 rows x 34 columns]\n",
      "Total de tarjetas amarillas en el juego 4888: 9\n",
      "Total de tarjetas rojas en el juego 4888: 1\n"
     ]
    }
   ],
   "source": [
    "partido = appearances[appearances['gameID'] == 4888]\n",
    "\n",
    "# Para mas informacion, mido el total de tarjetas amarillas y rojas\n",
    "total_yellow_cards = partido['yellowCard'].sum()\n",
    "total_red_cards = partido['redCard'].sum()\n",
    "\n",
    "print( games[games['gameID'] == 4888])\n",
    "\n",
    "print(f\"Total de tarjetas amarillas en el juego 4888: {total_yellow_cards}\")\n",
    "print(f\"Total de tarjetas rojas en el juego 4888: {total_red_cards}\")"
   ]
  },
  {
   "cell_type": "markdown",
   "id": "fedcfac9-a1e2-4919-8272-a2b5b4282485",
   "metadata": {
    "tags": []
   },
   "source": [
    "<b>Buscar el nombre de los equipos</b>"
   ]
  },
  {
   "cell_type": "code",
   "execution_count": 65,
   "id": "f6d945d0-0350-4630-a52c-2368fb3e5986",
   "metadata": {
    "tags": []
   },
   "outputs": [
    {
     "name": "stdout",
     "output_type": "stream",
     "text": [
      "    teamID      name\n",
      "90      98  Juventus\n",
      "    teamID  name\n",
      "88      95  Roma\n"
     ]
    }
   ],
   "source": [
    "print( teams[teams['teamID'] == 98])\n",
    "print( teams[teams['teamID'] == 95])"
   ]
  },
  {
   "cell_type": "markdown",
   "id": "27686599-f16b-4b8d-bb54-4da935ca7c0d",
   "metadata": {},
   "source": [
    "<b>Se verifico el reultado googleando para asegurarse, como es valido, se le asigna 9 amarillas .</b>"
   ]
  },
  {
   "cell_type": "code",
   "execution_count": 68,
   "id": "a50657c9-255c-415d-a128-dda8cb51e7e9",
   "metadata": {
    "tags": []
   },
   "outputs": [
    {
     "name": "stdout",
     "output_type": "stream",
     "text": [
      "gameID           0\n",
      "teamID           0\n",
      "season           0\n",
      "date             0\n",
      "location         0\n",
      "goals            0\n",
      "xGoals           0\n",
      "shots            0\n",
      "shotsOnTarget    0\n",
      "deep             0\n",
      "ppda             0\n",
      "fouls            0\n",
      "corners          0\n",
      "yellowCards      0\n",
      "redCards         0\n",
      "result           0\n",
      "dtype: int64\n"
     ]
    }
   ],
   "source": [
    "teamstats.loc[teamstats['gameID'] == 4888, 'yellowCards'] = 9\n",
    "\n",
    "print(teamstats.isnull().sum())"
   ]
  },
  {
   "cell_type": "markdown",
   "id": "076dcbef-b626-47fa-ae79-f606f6f75ab2",
   "metadata": {
    "tags": []
   },
   "source": [
    "<b>Ahora es valido</b>"
   ]
  },
  {
   "cell_type": "code",
   "execution_count": 71,
   "id": "24e5e778-7c4b-4910-ae73-581b46332d87",
   "metadata": {
    "tags": []
   },
   "outputs": [
    {
     "name": "stdout",
     "output_type": "stream",
     "text": [
      "<class 'pandas.core.frame.DataFrame'>\n",
      "RangeIndex: 7659 entries, 0 to 7658\n",
      "Data columns (total 2 columns):\n",
      " #   Column    Non-Null Count  Dtype \n",
      "---  ------    --------------  ----- \n",
      " 0   playerID  7659 non-null   int64 \n",
      " 1   name      7659 non-null   object\n",
      "dtypes: int64(1), object(1)\n",
      "memory usage: 119.8+ KB\n",
      "None\n"
     ]
    }
   ],
   "source": [
    "print(players.info())"
   ]
  },
  {
   "cell_type": "markdown",
   "id": "6c09d2d9-572c-474e-ad24-809010477286",
   "metadata": {},
   "source": [
    "<b>Players es valido</b>"
   ]
  },
  {
   "cell_type": "markdown",
   "id": "ce16f6c2-796a-46a1-b096-c861d9fddf93",
   "metadata": {
    "tags": []
   },
   "source": [
    "<h3>Eliminacion de duplicados</h3>"
   ]
  },
  {
   "cell_type": "code",
   "execution_count": 75,
   "id": "ee7fb7ef-28ab-42f2-9c85-d062357e107c",
   "metadata": {
    "tags": []
   },
   "outputs": [],
   "source": [
    "appearances.drop_duplicates(inplace=True)\n",
    "games.drop_duplicates(inplace=True)\n",
    "leagues.drop_duplicates(inplace=True)\n",
    "players.drop_duplicates(inplace=True)\n",
    "shots.drop_duplicates(inplace=True)\n",
    "teams.drop_duplicates(inplace=True)\n",
    "teamstats.drop_duplicates(inplace=True)"
   ]
  },
  {
   "cell_type": "markdown",
   "id": "3653dc39-918e-4b52-90b6-47d6bc9ba54e",
   "metadata": {},
   "source": [
    "<h3>Guardar el tratamiento de datos en carpeta 'Clean'</h3>"
   ]
  },
  {
   "cell_type": "code",
   "execution_count": 78,
   "id": "2ed55e6d-7724-4150-944c-6b2c8e83e9fa",
   "metadata": {},
   "outputs": [],
   "source": [
    "appearances.to_csv('Clean/appearances.csv', index=False)\n",
    "games.to_csv('Clean/games.csv', index=False)\n",
    "leagues.to_csv('Clean/leagues.csv', index=False)\n",
    "shots.to_csv('Clean/shots.csv', index=False)\n",
    "teams.to_csv('Clean/teams.csv', index=False)\n",
    "teamstats.to_csv('Clean/teamstats.csv', index=False)\n",
    "players.to_csv('Clean/players.csv', index=False)"
   ]
  }
 ],
 "metadata": {
  "kernelspec": {
   "display_name": "Python 3 (ipykernel)",
   "language": "python",
   "name": "python3"
  },
  "language_info": {
   "codemirror_mode": {
    "name": "ipython",
    "version": 3
   },
   "file_extension": ".py",
   "mimetype": "text/x-python",
   "name": "python",
   "nbconvert_exporter": "python",
   "pygments_lexer": "ipython3",
   "version": "3.11.7"
  }
 },
 "nbformat": 4,
 "nbformat_minor": 5
}
